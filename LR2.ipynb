{
 "cells": [
  {
   "cell_type": "markdown",
   "metadata": {
    "collapsed": false
   },
   "source": [
    "<h2>\n",
    "    Задание 1.\n",
    "</h2>"
   ]
  },
  {
   "cell_type": "markdown",
   "metadata": {
    "collapsed": false
   },
   "source": [
    "1) Реализовать в виде функций метод половинного деления и метод Ньютона.\n",
    "2) Сделать ползунок для перебора значений входных параметров.\n",
    "3) Сделать вывод 6 кадров нахождения решения и оформить через массив графиков.\n",
    "4) Сравнить ответ с тем, что даёт solve."
   ]
  },
  {
   "cell_type": "code",
   "execution_count": 1,
   "metadata": {
    "collapsed": false
   },
   "outputs": [
   ],
   "source": [
    "var('x')\n",
    "f = x^3 - 9*x^2 + 23*x - 15"
   ]
  },
  {
   "cell_type": "markdown",
   "metadata": {
    "collapsed": false
   },
   "source": [
    "Из уравнения $f(x) = 0$ находим точки пересечения оси $Ox$ при помощи встроенной функции $solve$:"
   ]
  },
  {
   "cell_type": "code",
   "execution_count": 2,
   "metadata": {
    "collapsed": false
   },
   "outputs": [
    {
     "data": {
      "text/plain": [
       "[x == 1, x == 5, x == 3]"
      ]
     },
     "execution_count": 2,
     "metadata": {
     },
     "output_type": "execute_result"
    }
   ],
   "source": [
    "solve(f, x)"
   ]
  },
  {
   "cell_type": "markdown",
   "metadata": {
    "collapsed": false
   },
   "source": [
    "График функции пересекает ось $Ox$ при $x = 1,  x = 3$ и $x = 5$."
   ]
  },
  {
   "cell_type": "markdown",
   "metadata": {
    "collapsed": false
   },
   "source": [
    "<h4>\n",
    "    Метод половинного деления.\n",
    "</h4>"
   ]
  },
  {
   "cell_type": "markdown",
   "metadata": {
    "collapsed": false
   },
   "source": [
    "Опишем функцию для метода половинного деления:"
   ]
  },
  {
   "cell_type": "code",
   "execution_count": 3,
   "metadata": {
    "collapsed": false
   },
   "outputs": [
   ],
   "source": [
    "def bisec(f, a, b, eps = 1e-5):\n",
    "    c = 0\n",
    "    i = 0\n",
    "    gr = [plot(f, (x, 0, 6), ymin = -4, ymax = 8, aspect_ratio = 0.6, figsize = [7,15])]*6\n",
    "    while((f(x = c) != 0)  and (abs(b - a) > eps)):\n",
    "        c = (a + b) / 2.\n",
    "        if(f(x = c) * f(x = a) > 0):\n",
    "            a = c\n",
    "        else:\n",
    "            b = c\n",
    "        if(i < 6):\n",
    "            gr[i] += point((c, 0), color = 'red', aspect_ratio = 0.6, size = 20)\n",
    "        i += 1\n",
    "    print(\"Графическое представления поиска решения методом половинного деления: \")\n",
    "    graphics_array([[gr[0], gr[1], gr[2]], [gr[3], gr[4], gr[5]]]).show(frame = True)\n",
    "    return c"
   ]
  },
  {
   "cell_type": "code",
   "execution_count": 4,
   "metadata": {
    "collapsed": false
   },
   "outputs": [
    {
     "data": {
      "application/vnd.jupyter.widget-view+json": {
       "model_id": "c0f1e0b571f742f693e05dfaa89aedb0",
       "version_major": 2,
       "version_minor": 0
      },
      "text/plain": [
       "Interactive function <function bisecInteract at 0x7f62c135e3a0> with 2 widgets\n",
       "  a: FloatSlider(value=2.5, des…"
      ]
     },
     "execution_count": 4,
     "metadata": {
     },
     "output_type": "execute_result"
    }
   ],
   "source": [
    "@interact\n",
    "def bisecInteract(a = (0.5, 4.5, 0.5), b = (1.5, 5.1, 0.5)):\n",
    "    print(\"Корень = \", bisec(f = f, a = a, b = b))"
   ]
  },
  {
   "cell_type": "markdown",
   "metadata": {
    "collapsed": false
   },
   "source": [
    "<h4>\n",
    "    Метод Ньютона.\n",
    "</h4>"
   ]
  },
  {
   "cell_type": "markdown",
   "metadata": {
    "collapsed": false
   },
   "source": [
    "Опишем функцию для метода Ньютона:"
   ]
  },
  {
   "cell_type": "code",
   "execution_count": 5,
   "metadata": {
    "collapsed": false
   },
   "outputs": [
   ],
   "source": [
    "def newton(f, a, b, eps = 1e-5):\n",
    "    i = 0\n",
    "    x1 = a\n",
    "    x2 = (a + b)/2\n",
    "    graph = [plot(f, (x, 0, 6), ymin = -4, ymax = 8, aspect_ratio = 0.6, figsize = [7, 15])]*6\n",
    "    d = f.derivative()\n",
    "    while abs(x2 - x1) >= eps:\n",
    "        x1 = x2\n",
    "        x2 = x1 - f(x=x1) / d(x=x1)\n",
    "        l = d(x = x1)*(x - x1) + f(x=x1)\n",
    "        if i < 6:\n",
    "            graph[i] += plot(l,(x, 0, 6), color = 'red' )\n",
    "        i += 1\n",
    "    print(\"Графическое представление поиска решения методом Ньютона: \")\n",
    "    graphics_array([[graph[0], graph[1], graph[2]], [graph[3], graph[4], graph[5]]]).show(frame = True)\n",
    "    return x1"
   ]
  },
  {
   "cell_type": "code",
   "execution_count": 6,
   "metadata": {
    "collapsed": false
   },
   "outputs": [
    {
     "data": {
      "application/vnd.jupyter.widget-view+json": {
       "model_id": "07e8c4d0667c4bd99570d42017c82f6f",
       "version_major": 2,
       "version_minor": 0
      },
      "text/plain": [
       "Interactive function <function newtonInteract at 0x7f62c403d790> with 2 widgets\n",
       "  a: FloatSlider(value=2.5, de…"
      ]
     },
     "execution_count": 6,
     "metadata": {
     },
     "output_type": "execute_result"
    }
   ],
   "source": [
    "@interact\n",
    "def newtonInteract(a = (0.5, 4.5, 0.5), b = (1.5, 5.1, 0.5)):\n",
    "    print(\"Корень = \", newton(f = f, a = a, b = b))"
   ]
  },
  {
   "cell_type": "markdown",
   "metadata": {
    "collapsed": false
   },
   "source": [
    "Корни, найденные при помощи встроенной функции $solve$, совпадают с корнями, найденными при помощи методов половинного деления и Ньютона."
   ]
  },
  {
   "cell_type": "markdown",
   "metadata": {
    "collapsed": false
   },
   "source": [
    "<h2>\n",
    "    Задание 2.\n",
    "</h2>"
   ]
  },
  {
   "cell_type": "markdown",
   "metadata": {
    "collapsed": false
   },
   "source": [
    "<h6> Вариант 3:</h6>\n",
    "$f = 126 * x^6 - 54 * x^5 - 28 * x^3 + 12*x^2 + 14 * x - 6$\n",
    "\n",
    "$g = -42 * x^5 + 39 * x^4 - 9 * x^3 - 189 * x + 81$"
   ]
  },
  {
   "cell_type": "markdown",
   "metadata": {
    "collapsed": false
   },
   "source": [
    "Найдем НОД при помощи функции $gcd$"
   ]
  },
  {
   "cell_type": "code",
   "execution_count": 7,
   "metadata": {
    "collapsed": false
   },
   "outputs": [
    {
     "name": "stdout",
     "output_type": "stream",
     "text": [
      "НОД =  7*x - 3\n"
     ]
    }
   ],
   "source": [
    "R, (x, y) = PolynomialRing(QQ,'x, y').objgens()\n",
    "f = 126 * x^6 - 54 * x^5 - 28 * x^3 + 12*x^2 + 14 * x - 6\n",
    "g = -42 * x^5 + 39 * x^4 - 9 * x^3 - 189 * x + 81\n",
    "res = g.gcd(f)\n",
    "print(\"НОД = \", res)"
   ]
  },
  {
   "cell_type": "code",
   "execution_count": 8,
   "metadata": {
    "collapsed": false
   },
   "outputs": [
   ],
   "source": [
    "def bezout(a, b):\n",
    "    x, xx, y, yy = 1, 0, 0, 1\n",
    "    while b:\n",
    "        q = a // b\n",
    "        c = b\n",
    "        b = a % c\n",
    "        a = c\n",
    "        x, xx = xx, x - xx*q\n",
    "        y, yy = yy, y - yy*q\n",
    "    return x, y, a"
   ]
  },
  {
   "cell_type": "code",
   "execution_count": 9,
   "metadata": {
    "collapsed": false
   },
   "outputs": [
    {
     "data": {
      "text/html": [
       "<html><script type=\"math/tex; mode=display\">\\newcommand{\\Bold}[1]{\\mathbf{#1}}-\\frac{5585932569209944}{29199662027163} x + \\frac{797990367029992}{9733220675721}</script></html>"
      ],
      "text/latex": [
       "\\begin{math}\n",
       "\\newcommand{\\Bold}[1]{\\mathbf{#1}}-\\frac{5585932569209944}{29199662027163} x + \\frac{797990367029992}{9733220675721}\n",
       "\\end{math}"
      ],
      "text/plain": [
       "-5585932569209944/29199662027163*x + 797990367029992/9733220675721"
      ]
     },
     "execution_count": 9,
     "metadata": {
     },
     "output_type": "execute_result"
    }
   ],
   "source": [
    "b = bezout(f, g)\n",
    "res2 = f * b[0] + g * b[1]\n",
    "show(res2)"
   ]
  },
  {
   "cell_type": "code",
   "execution_count": 10,
   "metadata": {
    "collapsed": false
   },
   "outputs": [
    {
     "name": "stdout",
     "output_type": "stream",
     "text": [
      "Коэффициенты для тождества Безу найдены верно!\n"
     ]
    }
   ],
   "source": [
    "if(res2 == b[2]):\n",
    "    print(\"Коэффициенты для тождества Безу найдены верно!\")\n",
    "else:\n",
    "    print(\"Коэффициенты для тождества Безу найдены неверно!\")"
   ]
  },
  {
   "cell_type": "code",
   "execution_count": 11,
   "metadata": {
    "collapsed": false
   },
   "outputs": [
    {
     "data": {
      "text/html": [
       "<html><script type=\"math/tex; mode=display\">\\newcommand{\\Bold}[1]{\\mathbf{#1}}-\\frac{29199662027163}{797990367029992}</script></html>"
      ],
      "text/latex": [
       "\\begin{math}\n",
       "\\newcommand{\\Bold}[1]{\\mathbf{#1}}-\\frac{29199662027163}{797990367029992}\n",
       "\\end{math}"
      ],
      "text/plain": [
       "-29199662027163/797990367029992"
      ]
     },
     "execution_count": 11,
     "metadata": {
     },
     "output_type": "execute_result"
    }
   ],
   "source": [
    "show(res / res2)"
   ]
  },
  {
   "cell_type": "markdown",
   "metadata": {
    "collapsed": false
   },
   "source": [
    "Найденные решения отличаются в константу раз."
   ]
  },
  {
   "cell_type": "markdown",
   "metadata": {
    "collapsed": false
   },
   "source": [
   ]
  },
  {
   "cell_type": "code",
   "execution_count": 0,
   "metadata": {
    "collapsed": false
   },
   "outputs": [
   ],
   "source": [
   ]
  }
 ],
 "metadata": {
  "kernelspec": {
   "display_name": "SageMath 9.2",
   "language": "sagemath",
   "metadata": {
    "cocalc": {
     "description": "Open-source mathematical software system",
     "priority": 10,
     "url": "https://www.sagemath.org/"
    }
   },
   "name": "sage-9.2",
   "resource_dir": "/ext/jupyter/kernels/sage-9.2"
  },
  "language_info": {
   "codemirror_mode": {
    "name": "ipython",
    "version": 3
   },
   "file_extension": ".py",
   "mimetype": "text/x-python",
   "name": "python",
   "nbconvert_exporter": "python",
   "pygments_lexer": "ipython3",
   "version": "3.8.5"
  }
 },
 "nbformat": 4,
 "nbformat_minor": 4
}